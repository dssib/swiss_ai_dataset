{
  "nbformat": 4,
  "nbformat_minor": 0,
  "metadata": {
    "colab": {
      "provenance": []
    },
    "kernelspec": {
      "name": "python3",
      "display_name": "Python 3"
    },
    "language_info": {
      "name": "python"
    }
  },
  "cells": [
    {
      "cell_type": "markdown",
      "source": [
        "This is the code to extract the entities and associated triples / descriptions from the Uniprot data uploaded to a dedicated GraphDB instance from the [ftp release](https://ftp.uniprot.org/pub/databases/uniprot/current_release/rdf/) uniprotkb_reviewed_eukaryota_opisthokonta_metazoa_33208_0.rdf.xz (including [citation info](https://ftp.uniprot.org/pub/databases/uniprot/current_release/rdf/citations.rdf.xz) and the [GO owl](https://ftp.uniprot.org/pub/databases/uniprot/current_release/rdf/go.owl.xz) file). The RDF data can be queried at https://biosoda.unil.ch/graphdb/sparql (repository *uniprot_swiss_ai*).\n",
        "\n",
        "Note: all the queries can also be executed against the full dataset at https://sparql.uniprot.org/\n",
        "\n",
        "The overall idea is explained in the presentation available in the Swiss AI RAG Gdrive folder [here](https://docs.google.com/presentation/d/1c89Sa7WM-vcCVZ-F2LfP0jZe0l3bVImT/edit?usp=drive_link&ouid=106167242104510220555&rtpof=true&sd=true).\n",
        "\n",
        "We start by identifying proteins which have GO annotations that can be attributed back to a specific Journal Citation. This will enable us to link a protein to a specific DOI, abstract and title, which will then act as our \"entity description\" similarly to the Wikidata dataset.\n",
        "\n",
        "**Note**: 1 protein can be associated to multiple GO annotations. Moreover, the link between 1 Protein and 1 specific GO annotation can be associated to multiple Journal citations (i.e. multiple papers assert that a given protein is associated to a given GO term). Therefore, if we consider the titles and abstracts of the corresponding papers as the \"entity description\" of a protein, then these will need to be somehow merged into a single description.\n",
        "\n",
        "**Goal**: predict a ranked list of K GO annotations connected to a given protein.\n",
        "\n"
      ],
      "metadata": {
        "id": "QHG1qdbmHSo_"
      }
    },
    {
      "cell_type": "code",
      "source": [
        "!pip install sparqlwrapper"
      ],
      "metadata": {
        "id": "Yx1ebKbpH9Ye",
        "colab": {
          "base_uri": "https://localhost:8080/"
        },
        "outputId": "f3e9db14-53ba-4c7b-bebc-d560ead25b1c"
      },
      "execution_count": 1,
      "outputs": [
        {
          "output_type": "stream",
          "name": "stdout",
          "text": [
            "Collecting sparqlwrapper\n",
            "  Downloading SPARQLWrapper-2.0.0-py3-none-any.whl.metadata (2.0 kB)\n",
            "Collecting rdflib>=6.1.1 (from sparqlwrapper)\n",
            "  Downloading rdflib-7.0.0-py3-none-any.whl.metadata (11 kB)\n",
            "Collecting isodate<0.7.0,>=0.6.0 (from rdflib>=6.1.1->sparqlwrapper)\n",
            "  Downloading isodate-0.6.1-py2.py3-none-any.whl.metadata (9.6 kB)\n",
            "Requirement already satisfied: pyparsing<4,>=2.1.0 in /usr/local/lib/python3.10/dist-packages (from rdflib>=6.1.1->sparqlwrapper) (3.1.4)\n",
            "Requirement already satisfied: six in /usr/local/lib/python3.10/dist-packages (from isodate<0.7.0,>=0.6.0->rdflib>=6.1.1->sparqlwrapper) (1.16.0)\n",
            "Downloading SPARQLWrapper-2.0.0-py3-none-any.whl (28 kB)\n",
            "Downloading rdflib-7.0.0-py3-none-any.whl (531 kB)\n",
            "\u001b[2K   \u001b[90m━━━━━━━━━━━━━━━━━━━━━━━━━━━━━━━━━━━━━━━━\u001b[0m \u001b[32m531.9/531.9 kB\u001b[0m \u001b[31m5.2 MB/s\u001b[0m eta \u001b[36m0:00:00\u001b[0m\n",
            "\u001b[?25hDownloading isodate-0.6.1-py2.py3-none-any.whl (41 kB)\n",
            "\u001b[2K   \u001b[90m━━━━━━━━━━━━━━━━━━━━━━━━━━━━━━━━━━━━━━━━\u001b[0m \u001b[32m41.7/41.7 kB\u001b[0m \u001b[31m1.8 MB/s\u001b[0m eta \u001b[36m0:00:00\u001b[0m\n",
            "\u001b[?25hInstalling collected packages: isodate, rdflib, sparqlwrapper\n",
            "Successfully installed isodate-0.6.1 rdflib-7.0.0 sparqlwrapper-2.0.0\n"
          ]
        }
      ]
    },
    {
      "cell_type": "code",
      "source": [
        "from SPARQLWrapper import SPARQLWrapper, JSON\n",
        "\n",
        "# the endpoint where the data can be queried\n",
        "sparql = SPARQLWrapper(\n",
        "    \"https://biosoda.unil.ch/graphdb/repositories/uniprot_swiss_ai\"\n",
        ")\n",
        "sparql.setReturnFormat(JSON)"
      ],
      "metadata": {
        "id": "nDIcOkrbawnQ"
      },
      "execution_count": 2,
      "outputs": []
    },
    {
      "cell_type": "code",
      "source": [
        "# simple example of a query: count all proteins in the endpoint\n",
        "sparql.setQuery(\"\"\"\n",
        "    PREFIX up: <http://purl.uniprot.org/core/>\n",
        "\n",
        "    SELECT (count (distinct ?protein) as ?count_num_proteins)\n",
        "    WHERE {\n",
        "        ?protein a up:Protein .\n",
        "    }\n",
        "    \"\"\"\n",
        ")\n",
        "\n",
        "try:\n",
        "    ret = sparql.queryAndConvert()\n",
        "\n",
        "    for r in ret[\"results\"][\"bindings\"]:\n",
        "        print(r[\"count_num_proteins\"][\"value\"])\n",
        "except Exception as e:\n",
        "    print(e)"
      ],
      "metadata": {
        "colab": {
          "base_uri": "https://localhost:8080/"
        },
        "id": "UzLC-OBaa48Q",
        "outputId": "f7e46d69-41fb-4f23-92c6-b4e076d7eecc"
      },
      "execution_count": null,
      "outputs": [
        {
          "output_type": "stream",
          "name": "stdout",
          "text": [
            "109788\n"
          ]
        }
      ]
    },
    {
      "cell_type": "code",
      "source": [
        "# count all proteins with some journal citation associated to them in the endpoint\n",
        "sparql.setQuery(\"\"\"\n",
        "    PREFIX up: <http://purl.uniprot.org/core/>\n",
        "\n",
        "    SELECT (count (distinct ?protein) as ?count_num_proteins_with_citations)\n",
        "    WHERE {\n",
        "        ?protein a up:Protein .\n",
        "        ?protein up:citation ?citation.\n",
        "        ?citation a up:Journal_Citation.\n",
        "    }\n",
        "    \"\"\"\n",
        ")\n",
        "\n",
        "try:\n",
        "    ret = sparql.queryAndConvert()\n",
        "\n",
        "    for r in ret[\"results\"][\"bindings\"]:\n",
        "        print(r[\"count_num_proteins_with_citations\"][\"value\"])\n",
        "except Exception as e:\n",
        "    print(e)"
      ],
      "metadata": {
        "colab": {
          "base_uri": "https://localhost:8080/"
        },
        "id": "b3pynvTcbHdM",
        "outputId": "9c530646-c640-4854-e443-b094425b88a5"
      },
      "execution_count": null,
      "outputs": [
        {
          "output_type": "stream",
          "name": "stdout",
          "text": [
            "94165\n"
          ]
        }
      ]
    },
    {
      "cell_type": "code",
      "source": [
        "# example query to get the DOI, title and abstract of a Journal Citation corresponding to a protein\n",
        "# need to make sure this is assigned to a GO annotation link\n",
        "sparql.setQuery(\"\"\"\n",
        "    PREFIX up: <http://purl.uniprot.org/core/>\n",
        "\n",
        "    SELECT *\n",
        "    WHERE {\n",
        "        ?protein a up:Protein .\n",
        "\n",
        "        ?protein up:attribution / up:source ?citation.\n",
        "\n",
        "        ?citation a <http://purl.uniprot.org/core/Journal_Citation>.\n",
        "\n",
        "        ?citation <http://purl.org/dc/terms/identifier> ?doi.\n",
        "\n",
        "        ?citation <http://www.w3.org/2004/02/skos/core#exactMatch> ?pubMedId.\n",
        "\n",
        "        ?citation <http://purl.uniprot.org/core/title> ?title.\n",
        "\n",
        "        ?citation <http://www.w3.org/2000/01/rdf-schema#comment> ?abstract.\n",
        "    } limit 10\n",
        "    \"\"\"\n",
        ")\n",
        "\n",
        "try:\n",
        "    ret = sparql.queryAndConvert()\n",
        "\n",
        "    for r in ret[\"results\"][\"bindings\"]:\n",
        "      for var in r:\n",
        "        print(var + \" \" + r[var][\"value\"])\n",
        "      print()\n",
        "except Exception as e:\n",
        "    print(e)"
      ],
      "metadata": {
        "colab": {
          "base_uri": "https://localhost:8080/"
        },
        "id": "jEeXbtSAI6PK",
        "outputId": "b2584a4f-8776-4b61-f671-73d861993bc8"
      },
      "execution_count": null,
      "outputs": [
        {
          "output_type": "stream",
          "name": "stdout",
          "text": [
            "protein http://purl.uniprot.org/uniprot/Q60888\n",
            "citation http://purl.uniprot.org/citations/14611657\n",
            "doi doi:10.1186/gb-2003-4-11-r71\n",
            "pubMedId http://purl.uniprot.org/pubmed/14611657\n",
            "title Odorant receptor expressed sequence tags demonstrate olfactory expression of over 400 genes, extensive alternate splicing and unequal expression levels.\n",
            "abstract <h4>Background</h4>The olfactory receptor gene family is one of the largest in the mammalian genome. Previous computational analyses have identified approximately 1,500 mouse olfactory receptors, but experimental evidence confirming olfactory function is available for very few olfactory receptors. We therefore screened a mouse olfactory epithelium cDNA library to obtain olfactory receptor expressed sequence tags, providing evidence of olfactory function for many additional olfactory receptors, as well as identifying gene structure and putative promoter regions.<h4>Results</h4>We identified more than 1,200 odorant receptor cDNAs representing more than 400 genes. Using real-time PCR to confirm expression level differences suggested by our screen, we find that transcript levels in the olfactory epithelium can differ between olfactory receptors by up to 300-fold. Differences for one gene pair are apparently due to both unequal numbers of expressing cells and unequal transcript levels per expressing cell. At least two-thirds of olfactory receptors exhibit multiple transcriptional variants, with alternative isoforms of both 5' and 3' untranslated regions. Some transcripts (5%) utilize splice sites within the coding region, contrary to the stereotyped olfactory receptor gene structure. Most atypical transcripts encode nonfunctional olfactory receptors, but can occasionally increase receptor diversity.<h4>Conclusions</h4>Our cDNA collection confirms olfactory function of over one-third of the intact mouse olfactory receptors. Most of these genes were previously annotated as olfactory receptors based solely on sequence similarity. Our finding that different olfactory receptors have different expression levels is intriguing given the one-neuron, one-gene expression regime of olfactory receptors. We provide 5' untranslated region sequences and candidate promoter regions for more than 300 olfactory receptors, valuable resources for computational regulatory motif searches and for designing olfactory receptor microarrays and other experimental probes.\n",
            "\n",
            "protein http://purl.uniprot.org/uniprot/Q60888\n",
            "citation http://purl.uniprot.org/citations/21873635\n",
            "doi doi:10.1093/bib/bbr042\n",
            "pubMedId http://purl.uniprot.org/pubmed/21873635\n",
            "title Phylogenetic-based propagation of functional annotations within the Gene Ontology consortium.\n",
            "abstract The goal of the Gene Ontology (GO) project is to provide a uniform way to describe the functions of gene products from organisms across all kingdoms of life and thereby enable analysis of genomic data. Protein annotations are either based on experiments or predicted from protein sequences. Since most sequences have not been experimentally characterized, most available annotations need to be based on predictions. To make as accurate inferences as possible, the GO Consortium's Reference Genome Project is using an explicit evolutionary framework to infer annotations of proteins from a broad set of genomes from experimental annotations in a semi-automated manner. Most components in the pipeline, such as selection of sequences, building multiple sequence alignments and phylogenetic trees, retrieving experimental annotations and depositing inferred annotations, are fully automated. However, the most crucial step in our pipeline relies on software-assisted curation by an expert biologist. This curation tool, Phylogenetic Annotation and INference Tool (PAINT) helps curators to infer annotations among members of a protein family. PAINT allows curators to make precise assertions as to when functions were gained and lost during evolution and record the evidence (e.g. experimentally supported GO annotations and phylogenetic information including orthology) for those assertions. In this article, we describe how we use PAINT to infer protein function in a phylogenetic context with emphasis on its strengths, limitations and guidelines. We also discuss specific examples showing how PAINT annotations compare with those generated by other highly used homology-based methods.\n",
            "\n",
            "protein http://purl.uniprot.org/uniprot/Q8VBW9\n",
            "citation http://purl.uniprot.org/citations/14611657\n",
            "doi doi:10.1186/gb-2003-4-11-r71\n",
            "pubMedId http://purl.uniprot.org/pubmed/14611657\n",
            "title Odorant receptor expressed sequence tags demonstrate olfactory expression of over 400 genes, extensive alternate splicing and unequal expression levels.\n",
            "abstract <h4>Background</h4>The olfactory receptor gene family is one of the largest in the mammalian genome. Previous computational analyses have identified approximately 1,500 mouse olfactory receptors, but experimental evidence confirming olfactory function is available for very few olfactory receptors. We therefore screened a mouse olfactory epithelium cDNA library to obtain olfactory receptor expressed sequence tags, providing evidence of olfactory function for many additional olfactory receptors, as well as identifying gene structure and putative promoter regions.<h4>Results</h4>We identified more than 1,200 odorant receptor cDNAs representing more than 400 genes. Using real-time PCR to confirm expression level differences suggested by our screen, we find that transcript levels in the olfactory epithelium can differ between olfactory receptors by up to 300-fold. Differences for one gene pair are apparently due to both unequal numbers of expressing cells and unequal transcript levels per expressing cell. At least two-thirds of olfactory receptors exhibit multiple transcriptional variants, with alternative isoforms of both 5' and 3' untranslated regions. Some transcripts (5%) utilize splice sites within the coding region, contrary to the stereotyped olfactory receptor gene structure. Most atypical transcripts encode nonfunctional olfactory receptors, but can occasionally increase receptor diversity.<h4>Conclusions</h4>Our cDNA collection confirms olfactory function of over one-third of the intact mouse olfactory receptors. Most of these genes were previously annotated as olfactory receptors based solely on sequence similarity. Our finding that different olfactory receptors have different expression levels is intriguing given the one-neuron, one-gene expression regime of olfactory receptors. We provide 5' untranslated region sequences and candidate promoter regions for more than 300 olfactory receptors, valuable resources for computational regulatory motif searches and for designing olfactory receptor microarrays and other experimental probes.\n",
            "\n",
            "protein http://purl.uniprot.org/uniprot/Q8VBW9\n",
            "citation http://purl.uniprot.org/citations/21873635\n",
            "doi doi:10.1093/bib/bbr042\n",
            "pubMedId http://purl.uniprot.org/pubmed/21873635\n",
            "title Phylogenetic-based propagation of functional annotations within the Gene Ontology consortium.\n",
            "abstract The goal of the Gene Ontology (GO) project is to provide a uniform way to describe the functions of gene products from organisms across all kingdoms of life and thereby enable analysis of genomic data. Protein annotations are either based on experiments or predicted from protein sequences. Since most sequences have not been experimentally characterized, most available annotations need to be based on predictions. To make as accurate inferences as possible, the GO Consortium's Reference Genome Project is using an explicit evolutionary framework to infer annotations of proteins from a broad set of genomes from experimental annotations in a semi-automated manner. Most components in the pipeline, such as selection of sequences, building multiple sequence alignments and phylogenetic trees, retrieving experimental annotations and depositing inferred annotations, are fully automated. However, the most crucial step in our pipeline relies on software-assisted curation by an expert biologist. This curation tool, Phylogenetic Annotation and INference Tool (PAINT) helps curators to infer annotations among members of a protein family. PAINT allows curators to make precise assertions as to when functions were gained and lost during evolution and record the evidence (e.g. experimentally supported GO annotations and phylogenetic information including orthology) for those assertions. In this article, we describe how we use PAINT to infer protein function in a phylogenetic context with emphasis on its strengths, limitations and guidelines. We also discuss specific examples showing how PAINT annotations compare with those generated by other highly used homology-based methods.\n",
            "\n",
            "protein http://purl.uniprot.org/uniprot/Q60885\n",
            "citation http://purl.uniprot.org/citations/14611657\n",
            "doi doi:10.1186/gb-2003-4-11-r71\n",
            "pubMedId http://purl.uniprot.org/pubmed/14611657\n",
            "title Odorant receptor expressed sequence tags demonstrate olfactory expression of over 400 genes, extensive alternate splicing and unequal expression levels.\n",
            "abstract <h4>Background</h4>The olfactory receptor gene family is one of the largest in the mammalian genome. Previous computational analyses have identified approximately 1,500 mouse olfactory receptors, but experimental evidence confirming olfactory function is available for very few olfactory receptors. We therefore screened a mouse olfactory epithelium cDNA library to obtain olfactory receptor expressed sequence tags, providing evidence of olfactory function for many additional olfactory receptors, as well as identifying gene structure and putative promoter regions.<h4>Results</h4>We identified more than 1,200 odorant receptor cDNAs representing more than 400 genes. Using real-time PCR to confirm expression level differences suggested by our screen, we find that transcript levels in the olfactory epithelium can differ between olfactory receptors by up to 300-fold. Differences for one gene pair are apparently due to both unequal numbers of expressing cells and unequal transcript levels per expressing cell. At least two-thirds of olfactory receptors exhibit multiple transcriptional variants, with alternative isoforms of both 5' and 3' untranslated regions. Some transcripts (5%) utilize splice sites within the coding region, contrary to the stereotyped olfactory receptor gene structure. Most atypical transcripts encode nonfunctional olfactory receptors, but can occasionally increase receptor diversity.<h4>Conclusions</h4>Our cDNA collection confirms olfactory function of over one-third of the intact mouse olfactory receptors. Most of these genes were previously annotated as olfactory receptors based solely on sequence similarity. Our finding that different olfactory receptors have different expression levels is intriguing given the one-neuron, one-gene expression regime of olfactory receptors. We provide 5' untranslated region sequences and candidate promoter regions for more than 300 olfactory receptors, valuable resources for computational regulatory motif searches and for designing olfactory receptor microarrays and other experimental probes.\n",
            "\n",
            "protein http://purl.uniprot.org/uniprot/Q60885\n",
            "citation http://purl.uniprot.org/citations/21873635\n",
            "doi doi:10.1093/bib/bbr042\n",
            "pubMedId http://purl.uniprot.org/pubmed/21873635\n",
            "title Phylogenetic-based propagation of functional annotations within the Gene Ontology consortium.\n",
            "abstract The goal of the Gene Ontology (GO) project is to provide a uniform way to describe the functions of gene products from organisms across all kingdoms of life and thereby enable analysis of genomic data. Protein annotations are either based on experiments or predicted from protein sequences. Since most sequences have not been experimentally characterized, most available annotations need to be based on predictions. To make as accurate inferences as possible, the GO Consortium's Reference Genome Project is using an explicit evolutionary framework to infer annotations of proteins from a broad set of genomes from experimental annotations in a semi-automated manner. Most components in the pipeline, such as selection of sequences, building multiple sequence alignments and phylogenetic trees, retrieving experimental annotations and depositing inferred annotations, are fully automated. However, the most crucial step in our pipeline relies on software-assisted curation by an expert biologist. This curation tool, Phylogenetic Annotation and INference Tool (PAINT) helps curators to infer annotations among members of a protein family. PAINT allows curators to make precise assertions as to when functions were gained and lost during evolution and record the evidence (e.g. experimentally supported GO annotations and phylogenetic information including orthology) for those assertions. In this article, we describe how we use PAINT to infer protein function in a phylogenetic context with emphasis on its strengths, limitations and guidelines. We also discuss specific examples showing how PAINT annotations compare with those generated by other highly used homology-based methods.\n",
            "\n",
            "protein http://purl.uniprot.org/uniprot/P32234\n",
            "citation http://purl.uniprot.org/citations/21873635\n",
            "doi doi:10.1093/bib/bbr042\n",
            "pubMedId http://purl.uniprot.org/pubmed/21873635\n",
            "title Phylogenetic-based propagation of functional annotations within the Gene Ontology consortium.\n",
            "abstract The goal of the Gene Ontology (GO) project is to provide a uniform way to describe the functions of gene products from organisms across all kingdoms of life and thereby enable analysis of genomic data. Protein annotations are either based on experiments or predicted from protein sequences. Since most sequences have not been experimentally characterized, most available annotations need to be based on predictions. To make as accurate inferences as possible, the GO Consortium's Reference Genome Project is using an explicit evolutionary framework to infer annotations of proteins from a broad set of genomes from experimental annotations in a semi-automated manner. Most components in the pipeline, such as selection of sequences, building multiple sequence alignments and phylogenetic trees, retrieving experimental annotations and depositing inferred annotations, are fully automated. However, the most crucial step in our pipeline relies on software-assisted curation by an expert biologist. This curation tool, Phylogenetic Annotation and INference Tool (PAINT) helps curators to infer annotations among members of a protein family. PAINT allows curators to make precise assertions as to when functions were gained and lost during evolution and record the evidence (e.g. experimentally supported GO annotations and phylogenetic information including orthology) for those assertions. In this article, we describe how we use PAINT to infer protein function in a phylogenetic context with emphasis on its strengths, limitations and guidelines. We also discuss specific examples showing how PAINT annotations compare with those generated by other highly used homology-based methods.\n",
            "\n",
            "protein http://purl.uniprot.org/uniprot/P32234\n",
            "citation http://purl.uniprot.org/citations/8121394\n",
            "doi doi:10.1007/bf00281788\n",
            "pubMedId http://purl.uniprot.org/pubmed/8121394\n",
            "title The gene upstream of DmRP128 codes for a novel GTP-binding protein of Drosophila melanogaster.\n",
            "abstract Upstream of the gene coding for the second-largest subunit of RNA polymerase III (DmRP128) we have found another gene (128up), which is transcribed in the same direction as the RNA polymerase gene. The intergenic distance between the 3' end of 128up mRNA and the 5' end of DmRP128 mRNA is only about 100 bp. Transcripts of 128up are present at a much higher level than DmRP128 RNA in Drosophila Schneider 2 cells, embryos, and adult flies. Two transcription start points, seven nucleotides apart, are found for 128up compared to multiple scattered starts for DmRP128. Sequence analysis of 128up cDNA reveals that the gene codes for a 41 kDa protein with homology to GTP-binding proteins and matching four of the structural sequence motifs characteristic of the superfamily of GTPases. Bacterially expressed 128up protein fused to maltose-binding protein specifically binds GTP. Sequences closely related to the 128up protein are found in species as distant as Halobacterium, yeast or mouse; the murine protein is 80% identical to 128up. This evolutionary conservation is indicative of an important, but as yet unknown, physiological role. In accordance with the sequence conservation, antibodies against 128up specifically cross-react with mouse 3T3 cells and human Hep2 cells where the subcellular localization of the protein is predominantly perinuclear. We propose that 128up is a member of a novel class of GTP-binding proteins.\n",
            "\n",
            "protein http://purl.uniprot.org/uniprot/P32234\n",
            "citation http://purl.uniprot.org/citations/8104141\n",
            "doi doi:10.1242/dev.118.1.203\n",
            "pubMedId http://purl.uniprot.org/pubmed/8104141\n",
            "title Identification and characterization of a gene activated by the deformed homeoprotein.\n",
            "abstract In Drosophila, the homeotic genes encode transcription factors which control segment identity during embryogenesis by specifying the appropriate set of 'target' genes necessary to produce the individual segmental characteristics. Though we know much about the homeotic genes and the proteins they encode, we know little of their targets. Here we identify and characterize one such target gene, a gene activated by the product of the homeotic gene Deformed. DNA binding assays and expression of reporter gene constructs indicate that activation of this gene requires a direct interaction between the Deformed protein and an upstream enhancer element at this target gene. However, although Deformed is required to activate this gene in cells of the maxillary segment, ectopically expressed Deformed does not activate the gene in other regions of the embryo. We conclude from this and other observations that additional factors may be required to activate the target gene, and, therefore, Deformed may participate in either a combinatorial or hierarchical activation signal in the maxillary cells. This newly identified gene encodes a novel protein of unknown function, though proteins with similar amino acid composition have been found. The pattern of transcript accumulation during embryogenesis indicates that this gene may be regulated by other homeoproteins in addition to Deformed.\n",
            "\n",
            "protein http://purl.uniprot.org/uniprot/P83011\n",
            "citation http://purl.uniprot.org/citations/11676495\n",
            "doi doi:10.1006/bbrc.2001.5826\n",
            "pubMedId http://purl.uniprot.org/pubmed/11676495\n",
            "title N-terminal sequences of small ion channels in rectal glands of sharks: a biochemical hallmark for classification and phylogeny?\n",
            "abstract The rectal gland of sharks contains a 13.2-kDa microsomal protein that in primary structure resembles to a variable extent the mammalian Cl-channel phospholemman. It appears to reside in basolateral as well as in apical membranes. The large variation in primary structure among different orders and families of sharks could make the protein a hallmark for classification.\n",
            "\n"
          ]
        }
      ]
    },
    {
      "cell_type": "code",
      "source": [
        "import csv\n",
        "fields=['protein_id','go_annotation_id']\n",
        "\n",
        "with open(r'data.csv', 'w') as f:\n",
        "  writer = csv.writer(f)\n",
        "  writer.writerow(fields)\n",
        "\n",
        "# select all pairs of protein - GO annotations\n",
        "sparql.setQuery(\"\"\"\n",
        "PREFIX up: <http://purl.uniprot.org/core/>\n",
        "PREFIX rdf: <http://www.w3.org/1999/02/22-rdf-syntax-ns#>\n",
        "\n",
        "SELECT distinct ?protein ?goAnnotation\n",
        "    WHERE {\n",
        "        ?protein a up:Protein .\n",
        "\t\t    ?protein up:attribution ?attribution.\n",
        "\t\t    ?attribution up:source ?citation.\n",
        "        ?citation a <http://purl.uniprot.org/core/Journal_Citation>.\n",
        "\t\t    ?protein_classified_with_go_property up:attribution ?attribution.\n",
        "        ?protein_classified_with_go_property rdf:subject ?protein.\n",
        "\t\t    ?protein_classified_with_go_property rdf:object ?goAnnotation.\n",
        "        FILTER(strstarts(str(?goAnnotation), \"http://purl.obolibrary.org/obo/GO\"))\n",
        "    }\n",
        "    \"\"\"\n",
        ")\n",
        "\n",
        "try:\n",
        "    ret = sparql.queryAndConvert()\n",
        "\n",
        "    for r in ret[\"results\"][\"bindings\"]:\n",
        "      fields_to_write = []\n",
        "\n",
        "      for var in r:\n",
        "        #print(var + \" \" + r[var][\"value\"])\n",
        "        fields_to_write.append(str(r[var][\"value\"]))\n",
        "      #print()\n",
        "\n",
        "      with open(r'data.csv', 'a') as f:\n",
        "        writer = csv.writer(f)\n",
        "        writer.writerow(fields_to_write)\n",
        "except Exception as e:\n",
        "    print(e)"
      ],
      "metadata": {
        "id": "PCEyeFyZJeBs"
      },
      "execution_count": null,
      "outputs": []
    },
    {
      "cell_type": "code",
      "source": [
        "def query_by_protein_and_go(protein_id, go_id):\n",
        "  # example query to get the DOI, title and abstract of a Journal Citation corresponding to a protein\n",
        "  # need to make sure this is assigned to a GO annotation link\n",
        "  results = {}\n",
        "\n",
        "  sparql.setQuery(\"\"\"\n",
        "    PREFIX up: <http://purl.uniprot.org/core/>\n",
        "\n",
        "    SELECT ?doi ?pubMedId ?title ?abstract\n",
        "    WHERE {\n",
        "        \"\"\"\n",
        "        + \"<\"+ protein_id + \">\" +\n",
        "        \"\"\" a up:Protein ; up:attribution ?attribution.\n",
        "\t\t    ?attribution up:source ?citation.\n",
        "\t\t    ?protein_classified_with_go_property up:attribution ?attribution.\n",
        "        ?protein_classified_with_go_property rdf:subject \"\"\" + \"<\"+ protein_id + \">. \" +\n",
        "\t\t    \" ?protein_classified_with_go_property rdf:object \" + \"<\" + go_id + \"> .\" + \"\"\"\n",
        "\n",
        "        ?citation a <http://purl.uniprot.org/core/Journal_Citation>.\n",
        "\n",
        "        ?citation <http://purl.org/dc/terms/identifier> ?doi.\n",
        "\n",
        "        ?citation <http://www.w3.org/2004/02/skos/core#exactMatch> ?pubMedId.\n",
        "\n",
        "        ?citation <http://purl.uniprot.org/core/title> ?title.\n",
        "\n",
        "        ?citation <http://www.w3.org/2000/01/rdf-schema#comment> ?abstract.\n",
        "    }\n",
        "    \"\"\"\n",
        "  )\n",
        "\n",
        "  try:\n",
        "      ret = sparql.queryAndConvert()\n",
        "\n",
        "      for r in ret[\"results\"][\"bindings\"]:\n",
        "        for var in r:\n",
        "          #print(var + \" \" + r[var][\"value\"])\n",
        "          results[var] = r[var][\"value\"]\n",
        "        #print()\n",
        "  except Exception as e:\n",
        "      print(e)\n",
        "\n",
        "  return results"
      ],
      "metadata": {
        "id": "sRmS4NtLVz_w"
      },
      "execution_count": null,
      "outputs": []
    },
    {
      "cell_type": "code",
      "source": [
        "def query_for_go_info(go_id):\n",
        "  # get all text triples related to a GO annotation, e.g. http://purl.obolibrary.org/obo/GO_0016020\n",
        "  results = {}\n",
        "\n",
        "  query = \"\"\"\n",
        "    PREFIX up: <http://purl.uniprot.org/core/>\n",
        "\n",
        "    SELECT distinct ?label ?exact_synonym ?related_synonym ?definition ?parent\n",
        "    WHERE {\n",
        "        \"\"\"\\\n",
        "        +  \"<\" + go_id + \"> <http://www.w3.org/2000/01/rdf-schema#label> ?label. \\n\"\"\"\\\n",
        "        +  \"OPTIONAL { <\" + go_id + \"> <http://www.geneontology.org/formats/oboInOwl#hasRelatedSynonym> ?related_synonym.} \\n\"\"\"\\\n",
        "        +  \"OPTIONAL { <\" + go_id + \"> <http://www.geneontology.org/formats/oboInOwl#hasExactSynonym> ?exact_synonym.} \\n\"\"\"\\\n",
        "        +  \"OPTIONAL { <\" + go_id + \"> <http://purl.obolibrary.org/obo/IAO_0000115> ?definition.} \\n\"\"\"\\\n",
        "        +  \"OPTIONAL { <\" + go_id + \"> <http://www.w3.org/2000/01/rdf-schema#subClassOf> ?parent.} \\n\"\"\"\\\n",
        "    + \"}\"\n",
        "\n",
        "  sparql.setQuery(query)\n",
        "\n",
        "  try:\n",
        "      ret = sparql.queryAndConvert()\n",
        "      for r in ret[\"results\"][\"bindings\"]:\n",
        "        for var in r:\n",
        "          if(results.get(var) is None):\n",
        "            results[var] = set()\n",
        "        for var in r:\n",
        "          #print(var + \" \" + r[var][\"value\"])\n",
        "          results[var].add(r[var][\"value\"])\n",
        "        #print()\n",
        "  except Exception as e:\n",
        "      print(e)\n",
        "\n",
        "  return results"
      ],
      "metadata": {
        "id": "HiQ2JBbRoUsn"
      },
      "execution_count": 67,
      "outputs": []
    },
    {
      "cell_type": "code",
      "source": [
        "def query_for_protein_info(protein_id):\n",
        "  # get all text triples related to a protein, e.g. http://purl.uniprot.org/uniprot/Q60888\n",
        "  results = {}\n",
        "\n",
        "  query = \"\"\"\n",
        "    PREFIX up: <http://purl.uniprot.org/core/>\n",
        "\n",
        "    SELECT distinct ?mnemonic ?old_mnemonic ?recommendedName ?alternativeName ?submittedName\n",
        "    WHERE {\n",
        "        \"\"\"\\\n",
        "        +  \"<\" + protein_id + \"> a <http://purl.uniprot.org/core/Protein>. \\n\"\"\"\\\n",
        "        +  \"OPTIONAL { <\" + protein_id + \"> <http://purl.uniprot.org/core/mnemonic> ?mnemonic.} \\n\"\"\"\\\n",
        "        +  \"OPTIONAL { <\" + protein_id + \"> <http://purl.uniprot.org/core/oldMnemonic> ?oldMnemonic.} \\n\"\"\"\\\n",
        "        +  \"OPTIONAL { <\" + protein_id + \"> <http://purl.uniprot.org/core/recommendedName>/<http://purl.uniprot.org/core/fullName> ?recommendedName.} \\n\"\"\"\\\n",
        "        +  \"OPTIONAL { <\" + protein_id + \"> <http://purl.uniprot.org/core/alternativeName>/<http://purl.uniprot.org/core/fullName> ?alternativeName.} \\n\"\"\"\\\n",
        "        +  \"OPTIONAL { <\" + protein_id + \"> <http://purl.uniprot.org/core/submittedName>/<http://purl.uniprot.org/core/fullName> ?submittedName.} \\n\"\"\"\\\n",
        "    + \"}\"\n",
        "\n",
        "  sparql.setQuery(query)\n",
        "\n",
        "  try:\n",
        "      ret = sparql.queryAndConvert()\n",
        "      for r in ret[\"results\"][\"bindings\"]:\n",
        "        for var in r:\n",
        "          if(results.get(var) is None):\n",
        "            results[var] = set()\n",
        "        for var in r:\n",
        "          #print(var + \" \" + r[var][\"value\"])\n",
        "          results[var].add(r[var][\"value\"])\n",
        "        #print()\n",
        "  except Exception as e:\n",
        "      print(e)\n",
        "\n",
        "  return results"
      ],
      "metadata": {
        "id": "Eh-H0JScFk0D"
      },
      "execution_count": 71,
      "outputs": []
    },
    {
      "cell_type": "code",
      "source": [
        "# create entities file with corresponding columns\n",
        "import csv\n",
        "columns = [\"protein_id\", \"doi\", \"pubMedId\", \"title\", \"abstract\", \"go_id\"]\n",
        "with open(r'proteins_go_journal_descs.csv', 'w') as f:\n",
        "  writer = csv.writer(f, delimiter='\\t')\n",
        "  writer.writerow(columns)\n",
        "\n",
        "with open(r'errors.log', 'w') as f:\n",
        "  f.write(\"errors logs\")"
      ],
      "metadata": {
        "id": "v6EC-EyutP2F"
      },
      "execution_count": null,
      "outputs": []
    },
    {
      "cell_type": "code",
      "source": [
        "# once we have this data we can start working with the individual proteins\n",
        "# to get back the citations corresponding to their go annotations\n",
        "\n",
        "# note: go annotation can be very generic e.g. http://purl.obolibrary.org/obo/GO_0016020\n",
        "# ... or very specific e.g. http://purl.obolibrary.org/obo/GO_0004984\n",
        "# we aim to focus on the very specific ones, coz those are the more \"interesting\"\n",
        "# we could look at the GO hierarchy for this (or just attempt to predict everything)\n",
        "\n",
        "with open(\"data.csv\", \"r\") as f:\n",
        "    reader = csv.reader(f)\n",
        "    for i, line in enumerate(reader):\n",
        "        if i == 0:\n",
        "          continue\n",
        "        [protein, go_annotation] = line\n",
        "        #print(protein + \" \" + go_annotation)\n",
        "        results = query_by_protein_and_go(protein, go_annotation)\n",
        "        if i % 1000 == 0:\n",
        "          percent = i/(float)(468762)*100\n",
        "          print(\"Now at line \" + str(line) + \" out of 468762\")\n",
        "        #print(results)\n",
        "        # TODO: populate CSV here with all descriptions per protein - go pair\n",
        "        try:\n",
        "          row_to_insert = [protein, results[\"doi\"], results[\"pubMedId\"], results[\"title\"], results[\"abstract\"], go_annotation]\n",
        "        except Exception as e:\n",
        "          with open(r'errors.log', 'a') as f:\n",
        "            f.write(\"Protein \" + protein + \" go \" + go_annotation + \" errors \" + str(e) + \"\\n\")\n",
        "          #print(e)\n",
        "\n",
        "        #print(row_to_insert)\n",
        "        with open(r'proteins_go_journal_descs.csv', 'a') as f:\n",
        "          writer = csv.writer(f, delimiter='\\t')\n",
        "          writer.writerow(row_to_insert)"
      ],
      "metadata": {
        "id": "OefzsB695mPy",
        "collapsed": true,
        "colab": {
          "base_uri": "https://localhost:8080/",
          "height": 216
        },
        "outputId": "9a8b4bb3-b896-48dd-ef05-c7529217c9ea"
      },
      "execution_count": 35,
      "outputs": [
        {
          "output_type": "error",
          "ename": "NameError",
          "evalue": "name 'query_by_protein_and_go' is not defined",
          "traceback": [
            "\u001b[0;31m---------------------------------------------------------------------------\u001b[0m",
            "\u001b[0;31mNameError\u001b[0m                                 Traceback (most recent call last)",
            "\u001b[0;32m<ipython-input-35-e8c171bfc7b6>\u001b[0m in \u001b[0;36m<cell line: 9>\u001b[0;34m()\u001b[0m\n\u001b[1;32m     14\u001b[0m         \u001b[0;34m[\u001b[0m\u001b[0mprotein\u001b[0m\u001b[0;34m,\u001b[0m \u001b[0mgo_annotation\u001b[0m\u001b[0;34m]\u001b[0m \u001b[0;34m=\u001b[0m \u001b[0mline\u001b[0m\u001b[0;34m\u001b[0m\u001b[0;34m\u001b[0m\u001b[0m\n\u001b[1;32m     15\u001b[0m         \u001b[0;31m#print(protein + \" \" + go_annotation)\u001b[0m\u001b[0;34m\u001b[0m\u001b[0;34m\u001b[0m\u001b[0m\n\u001b[0;32m---> 16\u001b[0;31m         \u001b[0mresults\u001b[0m \u001b[0;34m=\u001b[0m \u001b[0mquery_by_protein_and_go\u001b[0m\u001b[0;34m(\u001b[0m\u001b[0mprotein\u001b[0m\u001b[0;34m,\u001b[0m \u001b[0mgo_annotation\u001b[0m\u001b[0;34m)\u001b[0m\u001b[0;34m\u001b[0m\u001b[0;34m\u001b[0m\u001b[0m\n\u001b[0m\u001b[1;32m     17\u001b[0m         \u001b[0;32mif\u001b[0m \u001b[0mi\u001b[0m \u001b[0;34m%\u001b[0m \u001b[0;36m1000\u001b[0m \u001b[0;34m==\u001b[0m \u001b[0;36m0\u001b[0m\u001b[0;34m:\u001b[0m\u001b[0;34m\u001b[0m\u001b[0;34m\u001b[0m\u001b[0m\n\u001b[1;32m     18\u001b[0m           \u001b[0mpercent\u001b[0m \u001b[0;34m=\u001b[0m \u001b[0mi\u001b[0m\u001b[0;34m/\u001b[0m\u001b[0;34m(\u001b[0m\u001b[0mfloat\u001b[0m\u001b[0;34m)\u001b[0m\u001b[0;34m(\u001b[0m\u001b[0;36m468762\u001b[0m\u001b[0;34m)\u001b[0m\u001b[0;34m*\u001b[0m\u001b[0;36m100\u001b[0m\u001b[0;34m\u001b[0m\u001b[0;34m\u001b[0m\u001b[0m\n",
            "\u001b[0;31mNameError\u001b[0m: name 'query_by_protein_and_go' is not defined"
          ]
        }
      ]
    },
    {
      "cell_type": "code",
      "source": [
        "from google.colab import drive\n",
        "drive.mount('/content/drive')"
      ],
      "metadata": {
        "id": "u8OSo6vMpFm6"
      },
      "execution_count": null,
      "outputs": []
    },
    {
      "cell_type": "code",
      "source": [
        "from google.colab import files\n",
        "files.download(\"/content/proteins_go_journal_descs.csv\")"
      ],
      "metadata": {
        "id": "K6TJfH6ZSmxq"
      },
      "execution_count": null,
      "outputs": []
    },
    {
      "cell_type": "code",
      "source": [
        "# get all the labels of proteins\n",
        "\n"
      ],
      "metadata": {
        "id": "TGczVO3J7MsV"
      },
      "execution_count": null,
      "outputs": []
    },
    {
      "cell_type": "code",
      "source": [
        "# get all the labels of GO annotations\n",
        "import csv\n",
        "with open(r'errors.log', 'w') as f:\n",
        "  f.write(\"errors logs\")\n",
        "\n",
        "with open(r'go_triples.csv', 'w') as f:\n",
        "  f.write(\"subject\\tpredicate\\tobject\\n\")\n",
        "\n",
        "with open(\"data.csv\", \"r\") as f:\n",
        "    reader = csv.reader(f)\n",
        "    for i, line in enumerate(reader):\n",
        "        if i == 0:\n",
        "          continue\n",
        "        [protein, go_annotation] = line\n",
        "        results = query_for_go_info(go_annotation)\n",
        "\n",
        "        if i % 1000 == 0:\n",
        "          percent = i/(float)(468762)*100\n",
        "          print(\"Now at line \" + str(line) + \" out of 468762 (\" + str(percent) + \"%)\")\n",
        "\n",
        "        for var in results.keys():\n",
        "            if(var == \"label\"):\n",
        "              for label in results[var]:\n",
        "                row_to_insert = [go_annotation, \"http://www.w3.org/2000/01/rdf-schema#label\", label]\n",
        "                with open(r'go_triples.csv', 'a') as f:\n",
        "                  writer = csv.writer(f, delimiter='\\t')\n",
        "                  writer.writerow(row_to_insert)\n",
        "            elif(var == \"exact_synonym\"):\n",
        "              for exact_synonym in results[var]:\n",
        "                row_to_insert = [go_annotation, \"http://www.geneontology.org/formats/oboInOwl#hasRelatedSynonym\", exact_synonym]\n",
        "                with open(r'go_triples.csv', 'a') as f:\n",
        "                  writer = csv.writer(f, delimiter='\\t')\n",
        "                  writer.writerow(row_to_insert)\n",
        "            elif(var == \"related_synonym\"):\n",
        "              for related_synonym in results[var]:\n",
        "                row_to_insert = [go_annotation, \"http://www.geneontology.org/formats/oboInOwl#hasRelatedSynonym\", related_synonym]\n",
        "                with open(r'go_triples.csv', 'a') as f:\n",
        "                  writer = csv.writer(f, delimiter='\\t')\n",
        "                  writer.writerow(row_to_insert)\n",
        "            elif(var == \"parent\"):\n",
        "              for parent in results[var]:\n",
        "                row_to_insert = [go_annotation, \"http://www.w3.org/2000/01/rdf-schema#subClassOf\", parent]\n",
        "                with open(r'go_triples.csv', 'a') as f:\n",
        "                  writer = csv.writer(f, delimiter='\\t')\n",
        "                  writer.writerow(row_to_insert)\n",
        "            elif(var == \"definition\"):\n",
        "              for definition in results[var]:\n",
        "                row_to_insert = [go_annotation, \"http://purl.obolibrary.org/obo/IAO_0000115\", definition]\n",
        "                with open(r'go_triples.csv', 'a') as f:\n",
        "                  writer = csv.writer(f, delimiter='\\t')\n",
        "                  writer.writerow(row_to_insert)"
      ],
      "metadata": {
        "colab": {
          "base_uri": "https://localhost:8080/",
          "height": 365
        },
        "id": "taf6yDd5oNUR",
        "outputId": "1be55cb3-2e16-42ae-d5a4-3d4ef784ed8d"
      },
      "execution_count": 70,
      "outputs": [
        {
          "output_type": "error",
          "ename": "KeyboardInterrupt",
          "evalue": "",
          "traceback": [
            "\u001b[0;31m---------------------------------------------------------------------------\u001b[0m",
            "\u001b[0;31mKeyboardInterrupt\u001b[0m                         Traceback (most recent call last)",
            "\u001b[0;32m<ipython-input-70-e4643fe25a77>\u001b[0m in \u001b[0;36m<cell line: 9>\u001b[0;34m()\u001b[0m\n\u001b[1;32m     13\u001b[0m           \u001b[0;32mcontinue\u001b[0m\u001b[0;34m\u001b[0m\u001b[0;34m\u001b[0m\u001b[0m\n\u001b[1;32m     14\u001b[0m         \u001b[0;34m[\u001b[0m\u001b[0mprotein\u001b[0m\u001b[0;34m,\u001b[0m \u001b[0mgo_annotation\u001b[0m\u001b[0;34m]\u001b[0m \u001b[0;34m=\u001b[0m \u001b[0mline\u001b[0m\u001b[0;34m\u001b[0m\u001b[0;34m\u001b[0m\u001b[0m\n\u001b[0;32m---> 15\u001b[0;31m         \u001b[0mresults\u001b[0m \u001b[0;34m=\u001b[0m \u001b[0mquery_for_go_info\u001b[0m\u001b[0;34m(\u001b[0m\u001b[0mgo_annotation\u001b[0m\u001b[0;34m)\u001b[0m\u001b[0;34m\u001b[0m\u001b[0;34m\u001b[0m\u001b[0m\n\u001b[0m\u001b[1;32m     16\u001b[0m \u001b[0;34m\u001b[0m\u001b[0m\n\u001b[1;32m     17\u001b[0m         \u001b[0;32mif\u001b[0m \u001b[0mi\u001b[0m \u001b[0;34m%\u001b[0m \u001b[0;36m1000\u001b[0m \u001b[0;34m==\u001b[0m \u001b[0;36m0\u001b[0m\u001b[0;34m:\u001b[0m\u001b[0;34m\u001b[0m\u001b[0;34m\u001b[0m\u001b[0m\n",
            "\u001b[0;32m<ipython-input-67-e53d36f30264>\u001b[0m in \u001b[0;36mquery_for_go_info\u001b[0;34m(go_id)\u001b[0m\n\u001b[1;32m     20\u001b[0m \u001b[0;34m\u001b[0m\u001b[0m\n\u001b[1;32m     21\u001b[0m   \u001b[0;32mtry\u001b[0m\u001b[0;34m:\u001b[0m\u001b[0;34m\u001b[0m\u001b[0;34m\u001b[0m\u001b[0m\n\u001b[0;32m---> 22\u001b[0;31m       \u001b[0mret\u001b[0m \u001b[0;34m=\u001b[0m \u001b[0msparql\u001b[0m\u001b[0;34m.\u001b[0m\u001b[0mqueryAndConvert\u001b[0m\u001b[0;34m(\u001b[0m\u001b[0;34m)\u001b[0m\u001b[0;34m\u001b[0m\u001b[0;34m\u001b[0m\u001b[0m\n\u001b[0m\u001b[1;32m     23\u001b[0m       \u001b[0;32mfor\u001b[0m \u001b[0mr\u001b[0m \u001b[0;32min\u001b[0m \u001b[0mret\u001b[0m\u001b[0;34m[\u001b[0m\u001b[0;34m\"results\"\u001b[0m\u001b[0;34m]\u001b[0m\u001b[0;34m[\u001b[0m\u001b[0;34m\"bindings\"\u001b[0m\u001b[0;34m]\u001b[0m\u001b[0;34m:\u001b[0m\u001b[0;34m\u001b[0m\u001b[0;34m\u001b[0m\u001b[0m\n\u001b[1;32m     24\u001b[0m         \u001b[0;32mfor\u001b[0m \u001b[0mvar\u001b[0m \u001b[0;32min\u001b[0m \u001b[0mr\u001b[0m\u001b[0;34m:\u001b[0m\u001b[0;34m\u001b[0m\u001b[0;34m\u001b[0m\u001b[0m\n",
            "\u001b[0;32m/usr/local/lib/python3.10/dist-packages/SPARQLWrapper/Wrapper.py\u001b[0m in \u001b[0;36mqueryAndConvert\u001b[0;34m(self)\u001b[0m\n\u001b[1;32m    965\u001b[0m         \u001b[0;34m:\u001b[0m\u001b[0;32mreturn\u001b[0m\u001b[0;34m:\u001b[0m \u001b[0mthe\u001b[0m \u001b[0mconverted\u001b[0m \u001b[0mquery\u001b[0m \u001b[0mresult\u001b[0m\u001b[0;34m.\u001b[0m \u001b[0mSee\u001b[0m \u001b[0mthe\u001b[0m \u001b[0mconversion\u001b[0m \u001b[0mmethods\u001b[0m \u001b[0;32mfor\u001b[0m \u001b[0mmore\u001b[0m \u001b[0mdetails\u001b[0m\u001b[0;34m.\u001b[0m\u001b[0;34m\u001b[0m\u001b[0;34m\u001b[0m\u001b[0m\n\u001b[1;32m    966\u001b[0m         \"\"\"\n\u001b[0;32m--> 967\u001b[0;31m         \u001b[0mres\u001b[0m \u001b[0;34m=\u001b[0m \u001b[0mself\u001b[0m\u001b[0;34m.\u001b[0m\u001b[0mquery\u001b[0m\u001b[0;34m(\u001b[0m\u001b[0;34m)\u001b[0m\u001b[0;34m\u001b[0m\u001b[0;34m\u001b[0m\u001b[0m\n\u001b[0m\u001b[1;32m    968\u001b[0m         \u001b[0;32mreturn\u001b[0m \u001b[0mres\u001b[0m\u001b[0;34m.\u001b[0m\u001b[0mconvert\u001b[0m\u001b[0;34m(\u001b[0m\u001b[0;34m)\u001b[0m\u001b[0;34m\u001b[0m\u001b[0;34m\u001b[0m\u001b[0m\n\u001b[1;32m    969\u001b[0m \u001b[0;34m\u001b[0m\u001b[0m\n",
            "\u001b[0;32m/usr/local/lib/python3.10/dist-packages/SPARQLWrapper/Wrapper.py\u001b[0m in \u001b[0;36mquery\u001b[0;34m(self)\u001b[0m\n\u001b[1;32m    958\u001b[0m         \u001b[0;34m:\u001b[0m\u001b[0mrtype\u001b[0m\u001b[0;34m:\u001b[0m \u001b[0;34m:\u001b[0m\u001b[0;32mclass\u001b[0m\u001b[0;34m:\u001b[0m\u001b[0;31m`\u001b[0m\u001b[0mQueryResult\u001b[0m\u001b[0;31m`\u001b[0m \u001b[0minstance\u001b[0m\u001b[0;34m\u001b[0m\u001b[0;34m\u001b[0m\u001b[0m\n\u001b[1;32m    959\u001b[0m         \"\"\"\n\u001b[0;32m--> 960\u001b[0;31m         \u001b[0;32mreturn\u001b[0m \u001b[0mQueryResult\u001b[0m\u001b[0;34m(\u001b[0m\u001b[0mself\u001b[0m\u001b[0;34m.\u001b[0m\u001b[0m_query\u001b[0m\u001b[0;34m(\u001b[0m\u001b[0;34m)\u001b[0m\u001b[0;34m)\u001b[0m\u001b[0;34m\u001b[0m\u001b[0;34m\u001b[0m\u001b[0m\n\u001b[0m\u001b[1;32m    961\u001b[0m \u001b[0;34m\u001b[0m\u001b[0m\n\u001b[1;32m    962\u001b[0m     \u001b[0;32mdef\u001b[0m \u001b[0mqueryAndConvert\u001b[0m\u001b[0;34m(\u001b[0m\u001b[0mself\u001b[0m\u001b[0;34m)\u001b[0m \u001b[0;34m->\u001b[0m \u001b[0;34m\"QueryResult.ConvertResult\"\u001b[0m\u001b[0;34m:\u001b[0m\u001b[0;34m\u001b[0m\u001b[0;34m\u001b[0m\u001b[0m\n",
            "\u001b[0;32m/usr/local/lib/python3.10/dist-packages/SPARQLWrapper/Wrapper.py\u001b[0m in \u001b[0;36m_query\u001b[0;34m(self)\u001b[0m\n\u001b[1;32m    924\u001b[0m                 \u001b[0mresponse\u001b[0m \u001b[0;34m=\u001b[0m \u001b[0murlopener\u001b[0m\u001b[0;34m(\u001b[0m\u001b[0mrequest\u001b[0m\u001b[0;34m,\u001b[0m \u001b[0mtimeout\u001b[0m\u001b[0;34m=\u001b[0m\u001b[0mself\u001b[0m\u001b[0;34m.\u001b[0m\u001b[0mtimeout\u001b[0m\u001b[0;34m)\u001b[0m\u001b[0;34m\u001b[0m\u001b[0;34m\u001b[0m\u001b[0m\n\u001b[1;32m    925\u001b[0m             \u001b[0;32melse\u001b[0m\u001b[0;34m:\u001b[0m\u001b[0;34m\u001b[0m\u001b[0;34m\u001b[0m\u001b[0m\n\u001b[0;32m--> 926\u001b[0;31m                 \u001b[0mresponse\u001b[0m \u001b[0;34m=\u001b[0m \u001b[0murlopener\u001b[0m\u001b[0;34m(\u001b[0m\u001b[0mrequest\u001b[0m\u001b[0;34m)\u001b[0m\u001b[0;34m\u001b[0m\u001b[0;34m\u001b[0m\u001b[0m\n\u001b[0m\u001b[1;32m    927\u001b[0m             \u001b[0;32mreturn\u001b[0m \u001b[0mresponse\u001b[0m\u001b[0;34m,\u001b[0m \u001b[0mself\u001b[0m\u001b[0;34m.\u001b[0m\u001b[0mreturnFormat\u001b[0m\u001b[0;34m\u001b[0m\u001b[0;34m\u001b[0m\u001b[0m\n\u001b[1;32m    928\u001b[0m         \u001b[0;32mexcept\u001b[0m \u001b[0murllib\u001b[0m\u001b[0;34m.\u001b[0m\u001b[0merror\u001b[0m\u001b[0;34m.\u001b[0m\u001b[0mHTTPError\u001b[0m \u001b[0;32mas\u001b[0m \u001b[0me\u001b[0m\u001b[0;34m:\u001b[0m\u001b[0;34m\u001b[0m\u001b[0;34m\u001b[0m\u001b[0m\n",
            "\u001b[0;32m/usr/lib/python3.10/urllib/request.py\u001b[0m in \u001b[0;36murlopen\u001b[0;34m(url, data, timeout, cafile, capath, cadefault, context)\u001b[0m\n\u001b[1;32m    214\u001b[0m     \u001b[0;32melse\u001b[0m\u001b[0;34m:\u001b[0m\u001b[0;34m\u001b[0m\u001b[0;34m\u001b[0m\u001b[0m\n\u001b[1;32m    215\u001b[0m         \u001b[0mopener\u001b[0m \u001b[0;34m=\u001b[0m \u001b[0m_opener\u001b[0m\u001b[0;34m\u001b[0m\u001b[0;34m\u001b[0m\u001b[0m\n\u001b[0;32m--> 216\u001b[0;31m     \u001b[0;32mreturn\u001b[0m \u001b[0mopener\u001b[0m\u001b[0;34m.\u001b[0m\u001b[0mopen\u001b[0m\u001b[0;34m(\u001b[0m\u001b[0murl\u001b[0m\u001b[0;34m,\u001b[0m \u001b[0mdata\u001b[0m\u001b[0;34m,\u001b[0m \u001b[0mtimeout\u001b[0m\u001b[0;34m)\u001b[0m\u001b[0;34m\u001b[0m\u001b[0;34m\u001b[0m\u001b[0m\n\u001b[0m\u001b[1;32m    217\u001b[0m \u001b[0;34m\u001b[0m\u001b[0m\n\u001b[1;32m    218\u001b[0m \u001b[0;32mdef\u001b[0m \u001b[0minstall_opener\u001b[0m\u001b[0;34m(\u001b[0m\u001b[0mopener\u001b[0m\u001b[0;34m)\u001b[0m\u001b[0;34m:\u001b[0m\u001b[0;34m\u001b[0m\u001b[0;34m\u001b[0m\u001b[0m\n",
            "\u001b[0;32m/usr/lib/python3.10/urllib/request.py\u001b[0m in \u001b[0;36mopen\u001b[0;34m(self, fullurl, data, timeout)\u001b[0m\n\u001b[1;32m    517\u001b[0m \u001b[0;34m\u001b[0m\u001b[0m\n\u001b[1;32m    518\u001b[0m         \u001b[0msys\u001b[0m\u001b[0;34m.\u001b[0m\u001b[0maudit\u001b[0m\u001b[0;34m(\u001b[0m\u001b[0;34m'urllib.Request'\u001b[0m\u001b[0;34m,\u001b[0m \u001b[0mreq\u001b[0m\u001b[0;34m.\u001b[0m\u001b[0mfull_url\u001b[0m\u001b[0;34m,\u001b[0m \u001b[0mreq\u001b[0m\u001b[0;34m.\u001b[0m\u001b[0mdata\u001b[0m\u001b[0;34m,\u001b[0m \u001b[0mreq\u001b[0m\u001b[0;34m.\u001b[0m\u001b[0mheaders\u001b[0m\u001b[0;34m,\u001b[0m \u001b[0mreq\u001b[0m\u001b[0;34m.\u001b[0m\u001b[0mget_method\u001b[0m\u001b[0;34m(\u001b[0m\u001b[0;34m)\u001b[0m\u001b[0;34m)\u001b[0m\u001b[0;34m\u001b[0m\u001b[0;34m\u001b[0m\u001b[0m\n\u001b[0;32m--> 519\u001b[0;31m         \u001b[0mresponse\u001b[0m \u001b[0;34m=\u001b[0m \u001b[0mself\u001b[0m\u001b[0;34m.\u001b[0m\u001b[0m_open\u001b[0m\u001b[0;34m(\u001b[0m\u001b[0mreq\u001b[0m\u001b[0;34m,\u001b[0m \u001b[0mdata\u001b[0m\u001b[0;34m)\u001b[0m\u001b[0;34m\u001b[0m\u001b[0;34m\u001b[0m\u001b[0m\n\u001b[0m\u001b[1;32m    520\u001b[0m \u001b[0;34m\u001b[0m\u001b[0m\n\u001b[1;32m    521\u001b[0m         \u001b[0;31m# post-process response\u001b[0m\u001b[0;34m\u001b[0m\u001b[0;34m\u001b[0m\u001b[0m\n",
            "\u001b[0;32m/usr/lib/python3.10/urllib/request.py\u001b[0m in \u001b[0;36m_open\u001b[0;34m(self, req, data)\u001b[0m\n\u001b[1;32m    534\u001b[0m \u001b[0;34m\u001b[0m\u001b[0m\n\u001b[1;32m    535\u001b[0m         \u001b[0mprotocol\u001b[0m \u001b[0;34m=\u001b[0m \u001b[0mreq\u001b[0m\u001b[0;34m.\u001b[0m\u001b[0mtype\u001b[0m\u001b[0;34m\u001b[0m\u001b[0;34m\u001b[0m\u001b[0m\n\u001b[0;32m--> 536\u001b[0;31m         result = self._call_chain(self.handle_open, protocol, protocol +\n\u001b[0m\u001b[1;32m    537\u001b[0m                                   '_open', req)\n\u001b[1;32m    538\u001b[0m         \u001b[0;32mif\u001b[0m \u001b[0mresult\u001b[0m\u001b[0;34m:\u001b[0m\u001b[0;34m\u001b[0m\u001b[0;34m\u001b[0m\u001b[0m\n",
            "\u001b[0;32m/usr/lib/python3.10/urllib/request.py\u001b[0m in \u001b[0;36m_call_chain\u001b[0;34m(self, chain, kind, meth_name, *args)\u001b[0m\n\u001b[1;32m    494\u001b[0m         \u001b[0;32mfor\u001b[0m \u001b[0mhandler\u001b[0m \u001b[0;32min\u001b[0m \u001b[0mhandlers\u001b[0m\u001b[0;34m:\u001b[0m\u001b[0;34m\u001b[0m\u001b[0;34m\u001b[0m\u001b[0m\n\u001b[1;32m    495\u001b[0m             \u001b[0mfunc\u001b[0m \u001b[0;34m=\u001b[0m \u001b[0mgetattr\u001b[0m\u001b[0;34m(\u001b[0m\u001b[0mhandler\u001b[0m\u001b[0;34m,\u001b[0m \u001b[0mmeth_name\u001b[0m\u001b[0;34m)\u001b[0m\u001b[0;34m\u001b[0m\u001b[0;34m\u001b[0m\u001b[0m\n\u001b[0;32m--> 496\u001b[0;31m             \u001b[0mresult\u001b[0m \u001b[0;34m=\u001b[0m \u001b[0mfunc\u001b[0m\u001b[0;34m(\u001b[0m\u001b[0;34m*\u001b[0m\u001b[0margs\u001b[0m\u001b[0;34m)\u001b[0m\u001b[0;34m\u001b[0m\u001b[0;34m\u001b[0m\u001b[0m\n\u001b[0m\u001b[1;32m    497\u001b[0m             \u001b[0;32mif\u001b[0m \u001b[0mresult\u001b[0m \u001b[0;32mis\u001b[0m \u001b[0;32mnot\u001b[0m \u001b[0;32mNone\u001b[0m\u001b[0;34m:\u001b[0m\u001b[0;34m\u001b[0m\u001b[0;34m\u001b[0m\u001b[0m\n\u001b[1;32m    498\u001b[0m                 \u001b[0;32mreturn\u001b[0m \u001b[0mresult\u001b[0m\u001b[0;34m\u001b[0m\u001b[0;34m\u001b[0m\u001b[0m\n",
            "\u001b[0;32m/usr/lib/python3.10/urllib/request.py\u001b[0m in \u001b[0;36mhttps_open\u001b[0;34m(self, req)\u001b[0m\n\u001b[1;32m   1389\u001b[0m \u001b[0;34m\u001b[0m\u001b[0m\n\u001b[1;32m   1390\u001b[0m         \u001b[0;32mdef\u001b[0m \u001b[0mhttps_open\u001b[0m\u001b[0;34m(\u001b[0m\u001b[0mself\u001b[0m\u001b[0;34m,\u001b[0m \u001b[0mreq\u001b[0m\u001b[0;34m)\u001b[0m\u001b[0;34m:\u001b[0m\u001b[0;34m\u001b[0m\u001b[0;34m\u001b[0m\u001b[0m\n\u001b[0;32m-> 1391\u001b[0;31m             return self.do_open(http.client.HTTPSConnection, req,\n\u001b[0m\u001b[1;32m   1392\u001b[0m                 context=self._context, check_hostname=self._check_hostname)\n\u001b[1;32m   1393\u001b[0m \u001b[0;34m\u001b[0m\u001b[0m\n",
            "\u001b[0;32m/usr/lib/python3.10/urllib/request.py\u001b[0m in \u001b[0;36mdo_open\u001b[0;34m(self, http_class, req, **http_conn_args)\u001b[0m\n\u001b[1;32m   1350\u001b[0m             \u001b[0;32mexcept\u001b[0m \u001b[0mOSError\u001b[0m \u001b[0;32mas\u001b[0m \u001b[0merr\u001b[0m\u001b[0;34m:\u001b[0m \u001b[0;31m# timeout error\u001b[0m\u001b[0;34m\u001b[0m\u001b[0;34m\u001b[0m\u001b[0m\n\u001b[1;32m   1351\u001b[0m                 \u001b[0;32mraise\u001b[0m \u001b[0mURLError\u001b[0m\u001b[0;34m(\u001b[0m\u001b[0merr\u001b[0m\u001b[0;34m)\u001b[0m\u001b[0;34m\u001b[0m\u001b[0;34m\u001b[0m\u001b[0m\n\u001b[0;32m-> 1352\u001b[0;31m             \u001b[0mr\u001b[0m \u001b[0;34m=\u001b[0m \u001b[0mh\u001b[0m\u001b[0;34m.\u001b[0m\u001b[0mgetresponse\u001b[0m\u001b[0;34m(\u001b[0m\u001b[0;34m)\u001b[0m\u001b[0;34m\u001b[0m\u001b[0;34m\u001b[0m\u001b[0m\n\u001b[0m\u001b[1;32m   1353\u001b[0m         \u001b[0;32mexcept\u001b[0m\u001b[0;34m:\u001b[0m\u001b[0;34m\u001b[0m\u001b[0;34m\u001b[0m\u001b[0m\n\u001b[1;32m   1354\u001b[0m             \u001b[0mh\u001b[0m\u001b[0;34m.\u001b[0m\u001b[0mclose\u001b[0m\u001b[0;34m(\u001b[0m\u001b[0;34m)\u001b[0m\u001b[0;34m\u001b[0m\u001b[0;34m\u001b[0m\u001b[0m\n",
            "\u001b[0;32m/usr/lib/python3.10/http/client.py\u001b[0m in \u001b[0;36mgetresponse\u001b[0;34m(self)\u001b[0m\n\u001b[1;32m   1373\u001b[0m         \u001b[0;32mtry\u001b[0m\u001b[0;34m:\u001b[0m\u001b[0;34m\u001b[0m\u001b[0;34m\u001b[0m\u001b[0m\n\u001b[1;32m   1374\u001b[0m             \u001b[0;32mtry\u001b[0m\u001b[0;34m:\u001b[0m\u001b[0;34m\u001b[0m\u001b[0;34m\u001b[0m\u001b[0m\n\u001b[0;32m-> 1375\u001b[0;31m                 \u001b[0mresponse\u001b[0m\u001b[0;34m.\u001b[0m\u001b[0mbegin\u001b[0m\u001b[0;34m(\u001b[0m\u001b[0;34m)\u001b[0m\u001b[0;34m\u001b[0m\u001b[0;34m\u001b[0m\u001b[0m\n\u001b[0m\u001b[1;32m   1376\u001b[0m             \u001b[0;32mexcept\u001b[0m \u001b[0mConnectionError\u001b[0m\u001b[0;34m:\u001b[0m\u001b[0;34m\u001b[0m\u001b[0;34m\u001b[0m\u001b[0m\n\u001b[1;32m   1377\u001b[0m                 \u001b[0mself\u001b[0m\u001b[0;34m.\u001b[0m\u001b[0mclose\u001b[0m\u001b[0;34m(\u001b[0m\u001b[0;34m)\u001b[0m\u001b[0;34m\u001b[0m\u001b[0;34m\u001b[0m\u001b[0m\n",
            "\u001b[0;32m/usr/lib/python3.10/http/client.py\u001b[0m in \u001b[0;36mbegin\u001b[0;34m(self)\u001b[0m\n\u001b[1;32m    316\u001b[0m         \u001b[0;31m# read until we get a non-100 response\u001b[0m\u001b[0;34m\u001b[0m\u001b[0;34m\u001b[0m\u001b[0m\n\u001b[1;32m    317\u001b[0m         \u001b[0;32mwhile\u001b[0m \u001b[0;32mTrue\u001b[0m\u001b[0;34m:\u001b[0m\u001b[0;34m\u001b[0m\u001b[0;34m\u001b[0m\u001b[0m\n\u001b[0;32m--> 318\u001b[0;31m             \u001b[0mversion\u001b[0m\u001b[0;34m,\u001b[0m \u001b[0mstatus\u001b[0m\u001b[0;34m,\u001b[0m \u001b[0mreason\u001b[0m \u001b[0;34m=\u001b[0m \u001b[0mself\u001b[0m\u001b[0;34m.\u001b[0m\u001b[0m_read_status\u001b[0m\u001b[0;34m(\u001b[0m\u001b[0;34m)\u001b[0m\u001b[0;34m\u001b[0m\u001b[0;34m\u001b[0m\u001b[0m\n\u001b[0m\u001b[1;32m    319\u001b[0m             \u001b[0;32mif\u001b[0m \u001b[0mstatus\u001b[0m \u001b[0;34m!=\u001b[0m \u001b[0mCONTINUE\u001b[0m\u001b[0;34m:\u001b[0m\u001b[0;34m\u001b[0m\u001b[0;34m\u001b[0m\u001b[0m\n\u001b[1;32m    320\u001b[0m                 \u001b[0;32mbreak\u001b[0m\u001b[0;34m\u001b[0m\u001b[0;34m\u001b[0m\u001b[0m\n",
            "\u001b[0;32m/usr/lib/python3.10/http/client.py\u001b[0m in \u001b[0;36m_read_status\u001b[0;34m(self)\u001b[0m\n\u001b[1;32m    277\u001b[0m \u001b[0;34m\u001b[0m\u001b[0m\n\u001b[1;32m    278\u001b[0m     \u001b[0;32mdef\u001b[0m \u001b[0m_read_status\u001b[0m\u001b[0;34m(\u001b[0m\u001b[0mself\u001b[0m\u001b[0;34m)\u001b[0m\u001b[0;34m:\u001b[0m\u001b[0;34m\u001b[0m\u001b[0;34m\u001b[0m\u001b[0m\n\u001b[0;32m--> 279\u001b[0;31m         \u001b[0mline\u001b[0m \u001b[0;34m=\u001b[0m \u001b[0mstr\u001b[0m\u001b[0;34m(\u001b[0m\u001b[0mself\u001b[0m\u001b[0;34m.\u001b[0m\u001b[0mfp\u001b[0m\u001b[0;34m.\u001b[0m\u001b[0mreadline\u001b[0m\u001b[0;34m(\u001b[0m\u001b[0m_MAXLINE\u001b[0m \u001b[0;34m+\u001b[0m \u001b[0;36m1\u001b[0m\u001b[0;34m)\u001b[0m\u001b[0;34m,\u001b[0m \u001b[0;34m\"iso-8859-1\"\u001b[0m\u001b[0;34m)\u001b[0m\u001b[0;34m\u001b[0m\u001b[0;34m\u001b[0m\u001b[0m\n\u001b[0m\u001b[1;32m    280\u001b[0m         \u001b[0;32mif\u001b[0m \u001b[0mlen\u001b[0m\u001b[0;34m(\u001b[0m\u001b[0mline\u001b[0m\u001b[0;34m)\u001b[0m \u001b[0;34m>\u001b[0m \u001b[0m_MAXLINE\u001b[0m\u001b[0;34m:\u001b[0m\u001b[0;34m\u001b[0m\u001b[0;34m\u001b[0m\u001b[0m\n\u001b[1;32m    281\u001b[0m             \u001b[0;32mraise\u001b[0m \u001b[0mLineTooLong\u001b[0m\u001b[0;34m(\u001b[0m\u001b[0;34m\"status line\"\u001b[0m\u001b[0;34m)\u001b[0m\u001b[0;34m\u001b[0m\u001b[0;34m\u001b[0m\u001b[0m\n",
            "\u001b[0;32m/usr/lib/python3.10/socket.py\u001b[0m in \u001b[0;36mreadinto\u001b[0;34m(self, b)\u001b[0m\n\u001b[1;32m    703\u001b[0m         \u001b[0;32mwhile\u001b[0m \u001b[0;32mTrue\u001b[0m\u001b[0;34m:\u001b[0m\u001b[0;34m\u001b[0m\u001b[0;34m\u001b[0m\u001b[0m\n\u001b[1;32m    704\u001b[0m             \u001b[0;32mtry\u001b[0m\u001b[0;34m:\u001b[0m\u001b[0;34m\u001b[0m\u001b[0;34m\u001b[0m\u001b[0m\n\u001b[0;32m--> 705\u001b[0;31m                 \u001b[0;32mreturn\u001b[0m \u001b[0mself\u001b[0m\u001b[0;34m.\u001b[0m\u001b[0m_sock\u001b[0m\u001b[0;34m.\u001b[0m\u001b[0mrecv_into\u001b[0m\u001b[0;34m(\u001b[0m\u001b[0mb\u001b[0m\u001b[0;34m)\u001b[0m\u001b[0;34m\u001b[0m\u001b[0;34m\u001b[0m\u001b[0m\n\u001b[0m\u001b[1;32m    706\u001b[0m             \u001b[0;32mexcept\u001b[0m \u001b[0mtimeout\u001b[0m\u001b[0;34m:\u001b[0m\u001b[0;34m\u001b[0m\u001b[0;34m\u001b[0m\u001b[0m\n\u001b[1;32m    707\u001b[0m                 \u001b[0mself\u001b[0m\u001b[0;34m.\u001b[0m\u001b[0m_timeout_occurred\u001b[0m \u001b[0;34m=\u001b[0m \u001b[0;32mTrue\u001b[0m\u001b[0;34m\u001b[0m\u001b[0;34m\u001b[0m\u001b[0m\n",
            "\u001b[0;32m/usr/lib/python3.10/ssl.py\u001b[0m in \u001b[0;36mrecv_into\u001b[0;34m(self, buffer, nbytes, flags)\u001b[0m\n\u001b[1;32m   1301\u001b[0m                   \u001b[0;34m\"non-zero flags not allowed in calls to recv_into() on %s\"\u001b[0m \u001b[0;34m%\u001b[0m\u001b[0;34m\u001b[0m\u001b[0;34m\u001b[0m\u001b[0m\n\u001b[1;32m   1302\u001b[0m                   self.__class__)\n\u001b[0;32m-> 1303\u001b[0;31m             \u001b[0;32mreturn\u001b[0m \u001b[0mself\u001b[0m\u001b[0;34m.\u001b[0m\u001b[0mread\u001b[0m\u001b[0;34m(\u001b[0m\u001b[0mnbytes\u001b[0m\u001b[0;34m,\u001b[0m \u001b[0mbuffer\u001b[0m\u001b[0;34m)\u001b[0m\u001b[0;34m\u001b[0m\u001b[0;34m\u001b[0m\u001b[0m\n\u001b[0m\u001b[1;32m   1304\u001b[0m         \u001b[0;32melse\u001b[0m\u001b[0;34m:\u001b[0m\u001b[0;34m\u001b[0m\u001b[0;34m\u001b[0m\u001b[0m\n\u001b[1;32m   1305\u001b[0m             \u001b[0;32mreturn\u001b[0m \u001b[0msuper\u001b[0m\u001b[0;34m(\u001b[0m\u001b[0;34m)\u001b[0m\u001b[0;34m.\u001b[0m\u001b[0mrecv_into\u001b[0m\u001b[0;34m(\u001b[0m\u001b[0mbuffer\u001b[0m\u001b[0;34m,\u001b[0m \u001b[0mnbytes\u001b[0m\u001b[0;34m,\u001b[0m \u001b[0mflags\u001b[0m\u001b[0;34m)\u001b[0m\u001b[0;34m\u001b[0m\u001b[0;34m\u001b[0m\u001b[0m\n",
            "\u001b[0;32m/usr/lib/python3.10/ssl.py\u001b[0m in \u001b[0;36mread\u001b[0;34m(self, len, buffer)\u001b[0m\n\u001b[1;32m   1157\u001b[0m         \u001b[0;32mtry\u001b[0m\u001b[0;34m:\u001b[0m\u001b[0;34m\u001b[0m\u001b[0;34m\u001b[0m\u001b[0m\n\u001b[1;32m   1158\u001b[0m             \u001b[0;32mif\u001b[0m \u001b[0mbuffer\u001b[0m \u001b[0;32mis\u001b[0m \u001b[0;32mnot\u001b[0m \u001b[0;32mNone\u001b[0m\u001b[0;34m:\u001b[0m\u001b[0;34m\u001b[0m\u001b[0;34m\u001b[0m\u001b[0m\n\u001b[0;32m-> 1159\u001b[0;31m                 \u001b[0;32mreturn\u001b[0m \u001b[0mself\u001b[0m\u001b[0;34m.\u001b[0m\u001b[0m_sslobj\u001b[0m\u001b[0;34m.\u001b[0m\u001b[0mread\u001b[0m\u001b[0;34m(\u001b[0m\u001b[0mlen\u001b[0m\u001b[0;34m,\u001b[0m \u001b[0mbuffer\u001b[0m\u001b[0;34m)\u001b[0m\u001b[0;34m\u001b[0m\u001b[0;34m\u001b[0m\u001b[0m\n\u001b[0m\u001b[1;32m   1160\u001b[0m             \u001b[0;32melse\u001b[0m\u001b[0;34m:\u001b[0m\u001b[0;34m\u001b[0m\u001b[0;34m\u001b[0m\u001b[0m\n\u001b[1;32m   1161\u001b[0m                 \u001b[0;32mreturn\u001b[0m \u001b[0mself\u001b[0m\u001b[0;34m.\u001b[0m\u001b[0m_sslobj\u001b[0m\u001b[0;34m.\u001b[0m\u001b[0mread\u001b[0m\u001b[0;34m(\u001b[0m\u001b[0mlen\u001b[0m\u001b[0;34m)\u001b[0m\u001b[0;34m\u001b[0m\u001b[0;34m\u001b[0m\u001b[0m\n",
            "\u001b[0;31mKeyboardInterrupt\u001b[0m: "
          ]
        }
      ]
    },
    {
      "cell_type": "code",
      "source": [
        "# get all the labels of GO annotations\n",
        "import csv\n",
        "with open(r'errors.log', 'w') as f:\n",
        "  f.write(\"errors logs\")\n",
        "\n",
        "with open(r'protein_triples.csv', 'w') as f:\n",
        "  f.write(\"subject\\tpredicate\\tobject\\n\")\n",
        "\n",
        "already_processed=set()\n",
        "with open(\"data.csv\", \"r\") as f:\n",
        "    reader = csv.reader(f)\n",
        "    for i, line in enumerate(reader):\n",
        "        if i == 0:\n",
        "          continue\n",
        "        [protein, go_annotation] = line\n",
        "\n",
        "        if(protein in already_processed):\n",
        "          continue\n",
        "\n",
        "        already_processed.add(protein)\n",
        "\n",
        "        results = query_for_protein_info(protein)\n",
        "\n",
        "        if i % 1000 == 0:\n",
        "          percent = i/(float)(468762)*100\n",
        "          print(\"Now at line \" + str(line) + \" out of 468762 (\" + str(percent) + \"%)\")\n",
        "\n",
        "        for var in results.keys():\n",
        "            if(var == \"mnemonic\"):\n",
        "              for mnemonic in results[var]:\n",
        "                row_to_insert = [protein, \"http://purl.uniprot.org/core/mnemonic\", mnemonic]\n",
        "                with open(r'protein_triples.csv', 'a') as f:\n",
        "                  writer = csv.writer(f, delimiter='\\t')\n",
        "                  writer.writerow(row_to_insert)\n",
        "            elif(var == \"oldMnemonic\"):\n",
        "              for oldMnemonic in results[var]:\n",
        "                row_to_insert = [protein, \"http://purl.uniprot.org/core/oldMnemonic\", oldMnemonic]\n",
        "                with open(r'protein_triples.csv', 'a') as f:\n",
        "                  writer = csv.writer(f, delimiter='\\t')\n",
        "                  writer.writerow(row_to_insert)\n",
        "            elif(var == \"recommendedName\"):\n",
        "              for recommendedName in results[var]:\n",
        "                row_to_insert = [protein, \"http://purl.uniprot.org/core/recommendedName\", recommendedName]\n",
        "                with open(r'protein_triples.csv', 'a') as f:\n",
        "                  writer = csv.writer(f, delimiter='\\t')\n",
        "                  writer.writerow(row_to_insert)\n",
        "            elif(var == \"alternativeName\"):\n",
        "              for alternativeName in results[var]:\n",
        "                row_to_insert = [protein, \"http://purl.uniprot.org/core/alternativeName\", alternativeName]\n",
        "                with open(r'protein_triples.csv', 'a') as f:\n",
        "                  writer = csv.writer(f, delimiter='\\t')\n",
        "                  writer.writerow(row_to_insert)\n",
        "            elif(var == \"submittedName\"):\n",
        "              for submittedName in results[var]:\n",
        "                row_to_insert = [protein, \"http://purl.uniprot.org/core/submittedName>\", submittedName]\n",
        "                with open(r'protein_triples.csv', 'a') as f:\n",
        "                  writer = csv.writer(f, delimiter='\\t')\n",
        "                  writer.writerow(row_to_insert)"
      ],
      "metadata": {
        "id": "gnbmVnMvoDku"
      },
      "execution_count": null,
      "outputs": []
    },
    {
      "cell_type": "code",
      "source": [],
      "metadata": {
        "id": "V0FQvSJkHHYT"
      },
      "execution_count": null,
      "outputs": []
    },
    {
      "cell_type": "code",
      "source": [],
      "metadata": {
        "id": "Bp0iANvGHHMM"
      },
      "execution_count": null,
      "outputs": []
    }
  ]
}